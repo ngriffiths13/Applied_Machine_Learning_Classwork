{
 "cells": [
  {
   "cell_type": "markdown",
   "metadata": {},
   "source": [
    "# Web Scraping the Bible (Book of Deuteronomy) "
   ]
  },
  {
   "cell_type": "code",
   "execution_count": 10,
   "metadata": {},
   "outputs": [],
   "source": [
    "from bs4 import BeautifulSoup\n",
    "import requests\n",
    "# Here, we're just importing both Beautiful Soup and the Requests library"
   ]
  },
  {
   "cell_type": "code",
   "execution_count": 11,
   "metadata": {},
   "outputs": [],
   "source": [
    "page_link = 'http://www.gutenberg.org/files/10/10-h/10-h.htm#The_Fifth_Book_of_Moses_Called_Deuteronomy'\n",
    "# this is the url that we've already determined is safe and legal to scrape from.\n",
    "page_response = requests.get(page_link, timeout=5)\n",
    "# here, we fetch the content from the url, using the requests library\n",
    "page_content = BeautifulSoup(page_response.content, \"html.parser\")\n",
    "#we use the html parser to parse the url content and store it in a variable.\n",
    "Deuteronomy = []\n",
    "for i in range(3775,4438):  # subset to only book of Deuteronomy - there's probably a better way to do this\n",
    "    paragraphs = page_content.find_all(\"p\")[i].text\n",
    "    textContent.append(paragraphs)"
   ]
  },
  {
   "cell_type": "code",
   "execution_count": 12,
   "metadata": {},
   "outputs": [],
   "source": [
    "paragraphs = page_content.find_all(\"p\")[i].text"
   ]
  },
  {
   "cell_type": "code",
   "execution_count": 13,
   "metadata": {},
   "outputs": [
    {
     "data": {
      "text/plain": [
       "'34:9 And Joshua the son of Nun was full of the spirit of wisdom; for\\r\\nMoses had laid his hands upon him: and the children of Israel\\r\\nhearkened unto him, and did as the LORD commanded Moses.'"
      ]
     },
     "execution_count": 13,
     "metadata": {},
     "output_type": "execute_result"
    }
   ],
   "source": [
    "paragraphs"
   ]
  },
  {
   "cell_type": "code",
   "execution_count": 14,
   "metadata": {},
   "outputs": [
    {
     "data": {
      "text/plain": [
       "'1:1 These be the words which Moses spake unto all Israel on this side\\r\\nJordan in the wilderness, in the plain over against the Red sea,\\r\\nbetween Paran, and Tophel, and Laban, and Hazeroth, and Dizahab.'"
      ]
     },
     "execution_count": 14,
     "metadata": {},
     "output_type": "execute_result"
    }
   ],
   "source": [
    "Deuteronomy[0]"
   ]
  },
  {
   "cell_type": "markdown",
   "metadata": {},
   "source": [
    "## We now need to clean up the textContent a bit by doing the following:\n",
    "### 1. Delete the verse numbers\n",
    "### 2. replace all \\r\\n appearences with a space\n",
    "### 3. Delete verses where the words \"LORD\" or \"God\" appear (to reduce blaspheme in our final result)"
   ]
  },
  {
   "cell_type": "code",
   "execution_count": 15,
   "metadata": {},
   "outputs": [],
   "source": [
    "import re # import regular expressions"
   ]
  },
  {
   "cell_type": "code",
   "execution_count": 16,
   "metadata": {},
   "outputs": [],
   "source": [
    "def clean(string):\n",
    "    #removing verse numbers \n",
    "    string = re.sub(\"\\d+:\\d+\", \"\", string)\n",
    "    string = string.replace(\"\\r\\n\", \" \") # normal python function\n",
    "    # empty verses get removed later\n",
    "    if \"lord\" in string.lower() or \"god\" in string.lower():\n",
    "        string = ''\n",
    "    string = string.strip()\n",
    "    return string\n",
    "\n",
    "Deuteronomy = [clean(verse) for verse in Deuteronomy]\n",
    "\n",
    "# remove empty verses (blasphemic verses)\n",
    "Deuteronomy_clean = [verse for verse in Deuteronomy if len(verse) > 0]"
   ]
  },
  {
   "cell_type": "code",
   "execution_count": 17,
   "metadata": {},
   "outputs": [
    {
     "data": {
      "text/plain": [
       "'These be the words which Moses spake unto all Israel on this side Jordan in the wilderness, in the plain over against the Red sea, between Paran, and Tophel, and Laban, and Hazeroth, and Dizahab.'"
      ]
     },
     "execution_count": 17,
     "metadata": {},
     "output_type": "execute_result"
    }
   ],
   "source": [
    "Deuteronomy[0]"
   ]
  },
  {
   "cell_type": "code",
   "execution_count": 20,
   "metadata": {},
   "outputs": [],
   "source": [
    "Deuteronomy = \"\".join(Deuteronomy)"
   ]
  },
  {
   "cell_type": "code",
   "execution_count": 23,
   "metadata": {},
   "outputs": [],
   "source": [
    "Deuteronomy = Deuteronomy.replace ('.', '.\\n')"
   ]
  },
  {
   "cell_type": "code",
   "execution_count": 24,
   "metadata": {},
   "outputs": [],
   "source": [
    "with open(\"Deuteronomy.txt\", \"w\") as output:\n",
    "    output.write(str(Deuteronomy))\n",
    "    "
   ]
  }
 ],
 "metadata": {
  "kernelspec": {
   "display_name": "Python 3",
   "language": "python",
   "name": "python3"
  },
  "language_info": {
   "codemirror_mode": {
    "name": "ipython",
    "version": 3
   },
   "file_extension": ".py",
   "mimetype": "text/x-python",
   "name": "python",
   "nbconvert_exporter": "python",
   "pygments_lexer": "ipython3",
   "version": "3.6.5"
  }
 },
 "nbformat": 4,
 "nbformat_minor": 2
}
